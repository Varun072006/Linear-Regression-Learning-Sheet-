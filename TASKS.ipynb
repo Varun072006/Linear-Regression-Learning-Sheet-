{
 "cells": [
  {
   "cell_type": "markdown",
   "metadata": {
    "id": "uASPjRuN6llZ"
   },
   "source": [
    "TASK-1"
   ]
  },
  {
   "cell_type": "code",
   "execution_count": 3,
   "metadata": {
    "id": "8OQQ37N-6Tdq"
   },
   "outputs": [
    {
     "name": "stdout",
     "output_type": "stream",
     "text": [
      "Slope: 5.053919705900306\n",
      "Intercept: 49.64707939434373\n",
      "R²: 0.9759056668691584\n",
      "Predicted score for 9 hours: 95.13235674744648\n"
     ]
    }
   ],
   "source": [
    "import pandas as pd\n",
    "import numpy as np\n",
    "from sklearn.linear_model import LinearRegression\n",
    "\n",
    "df = pd.read_csv(\"DATASETS\\\\study_hours_scores_150.csv\")\n",
    "\n",
    "X = df[[\"hours\"]].values\n",
    "y = df[\"score\"].values\n",
    "\n",
    "model = LinearRegression()\n",
    "model.fit(X, y)\n",
    "\n",
    "slope = model.coef_[0]\n",
    "intercept = model.intercept_\n",
    "\n",
    "r2 = model.score(X, y)\n",
    "\n",
    "pred_score = model.predict([[9]])\n",
    "\n",
    "print(\"Slope:\", slope)\n",
    "print(\"Intercept:\", intercept)\n",
    "print(\"R²:\", r2)\n",
    "print(\"Predicted score for 9 hours:\", pred_score[0])"
   ]
  },
  {
   "cell_type": "markdown",
   "metadata": {
    "id": "bX2eC_Yl6jks"
   },
   "source": [
    "TASK-2"
   ]
  },
  {
   "cell_type": "code",
   "execution_count": 5,
   "metadata": {
    "id": "cIZ7KhKm6iRy"
   },
   "outputs": [
    {
     "name": "stdout",
     "output_type": "stream",
     "text": [
      "Slope: 970.9163250491016\n",
      "Intercept: 7914.015776413857\n",
      "R²: 0.971512879031536\n",
      "Predicted Price for 120 m²: 124423.97478230605\n"
     ]
    }
   ],
   "source": [
    "import pandas as pd\n",
    "import numpy as np\n",
    "from sklearn.linear_model import LinearRegression\n",
    "\n",
    "df = pd.read_csv(\"DATASETS\\\\house_price_size_150.csv\")\n",
    "\n",
    "X = df[[\"size_m2\"]].values\n",
    "y = df[\"price\"].values\n",
    "\n",
    "model = LinearRegression()\n",
    "model.fit(X, y)\n",
    "\n",
    "slope = model.coef_[0]\n",
    "intercept = model.intercept_\n",
    "y_pred = model.predict(X)\n",
    "res = np.sum((y - y_pred) ** 2)\n",
    "tot = np.sum((y - np.mean(y)) ** 2)\n",
    "r2 = 1 - (res / tot)\n",
    "pred_price = model.predict([[120]])\n",
    "\n",
    "print(\"Slope:\", slope)\n",
    "print(\"Intercept:\", intercept)\n",
    "print(\"R²:\",r2)\n",
    "print(\"Predicted Price for 120 m²:\", pred_price[0])"
   ]
  },
  {
   "cell_type": "markdown",
   "metadata": {
    "id": "1LjUqmdN67DG"
   },
   "source": [
    "TASK-3"
   ]
  },
  {
   "cell_type": "code",
   "execution_count": 6,
   "metadata": {
    "id": "wZidLODp66NM"
   },
   "outputs": [
    {
     "name": "stdout",
     "output_type": "stream",
     "text": [
      "Slope (₹k per year): 3.0050265775533465\n",
      "Intercept (Base, when experience = 0): 30.290855202572406\n",
      "R²: 0.987404362707227\n",
      "Predicted salary at 7 years (₹k): 51.326041245445836\n"
     ]
    }
   ],
   "source": [
    "import pandas as pd\n",
    "import numpy as np\n",
    "from sklearn.linear_model import LinearRegression\n",
    "\n",
    "df = pd.read_csv(\"DATASETS\\\\salary_experience_150.csv\")\n",
    "\n",
    "X = df[[\"experience_years\"]].values\n",
    "y = df[\"salary_k\"].values\n",
    "\n",
    "model = LinearRegression()\n",
    "model.fit(X, y)\n",
    "\n",
    "slope = model.coef_[0]\n",
    "intercept = model.intercept_\n",
    "y_pred = model.predict(X)\n",
    "res = np.sum((y - y_pred) ** 2)\n",
    "tot = np.sum((y - np.mean(y)) ** 2)\n",
    "r2 = 1 - (res / tot)\n",
    "\n",
    "prediction = model.predict([[7]])\n",
    "\n",
    "print(\"Slope (₹k per year):\", slope)\n",
    "print(\"Intercept (Base, when experience = 0):\", intercept)\n",
    "print(\"R²:\",r2)\n",
    "print(\"Predicted salary at 7 years (₹k):\", prediction[0])"
   ]
  },
  {
   "cell_type": "markdown",
   "metadata": {
    "id": "QtdBu8Vk7zIq"
   },
   "source": [
    "TASK-4"
   ]
  },
  {
   "cell_type": "code",
   "execution_count": 8,
   "metadata": {
    "id": "jkWciQmq7x8n"
   },
   "outputs": [
    {
     "name": "stdout",
     "output_type": "stream",
     "text": [
      "Coefficients (size_m2, bedrooms): [ 0.05475609 10.07973983]\n",
      "Intercept: 4.382282432945509\n",
      "R²: 0.9695797476976743\n",
      "Predicted price_k for size=85 & bedrooms=3: 39.275769510235385\n"
     ]
    }
   ],
   "source": [
    "import pandas as pd\n",
    "import numpy as np\n",
    "from sklearn.linear_model import LinearRegression\n",
    "\n",
    "df = pd.read_csv(\"DATASETS\\\\house_price_multifeature_150.csv\")\n",
    "\n",
    "X = df[[\"size_m2\", \"bedrooms\"]].values\n",
    "y = df[\"price_k\"].values\n",
    "\n",
    "model = LinearRegression()\n",
    "model.fit(X, y)\n",
    "\n",
    "coefficients = model.coef_\n",
    "intercept = model.intercept_\n",
    "\n",
    "y_pred = model.predict(X)\n",
    "res = np.sum((y - y_pred) ** 2)\n",
    "tot = np.sum((y - np.mean(y)) ** 2)\n",
    "r2 = 1 - (res / tot)\n",
    "\n",
    "prediction = model.predict([[85, 3]])\n",
    "\n",
    "print(\"Coefficients (size_m2, bedrooms):\", coefficients)\n",
    "print(\"Intercept:\", intercept)\n",
    "print(\"R²:\", r2)\n",
    "print(\"Predicted price_k for size=85 & bedrooms=3:\", prediction[0])"
   ]
  },
  {
   "cell_type": "markdown",
   "metadata": {
    "id": "N7F1F3yD8Dg2"
   },
   "source": [
    "TASK-5"
   ]
  },
  {
   "cell_type": "code",
   "execution_count": 9,
   "metadata": {
    "id": "EARMynDP8C7w"
   },
   "outputs": [
    {
     "name": "stdout",
     "output_type": "stream",
     "text": [
      "Coefficients: [0.04171672 0.30108567 0.54062001]\n",
      "Intercept: 4.24955186138774\n",
      "R²: 0.8379266626207427\n",
      "Predicted sales: 30.290129072936328\n"
     ]
    }
   ],
   "source": [
    "import pandas as pd\n",
    "import numpy as np\n",
    "from sklearn.linear_model import LinearRegression\n",
    "\n",
    "df = pd.read_csv(\"DATASETS\\\\advertising_linear_150.csv\")\n",
    "\n",
    "X = df[[\"TV_spend\", \"radio_spend\", \"social_spend\"]].values\n",
    "y = df[\"sales_k\"].values\n",
    "\n",
    "model = LinearRegression()\n",
    "model.fit(X, y)\n",
    "\n",
    "coefficients = model.coef_\n",
    "intercept = model.intercept_\n",
    "\n",
    "y_pred = model.predict(X)\n",
    "res = np.sum((y - y_pred) ** 2)\n",
    "tot = np.sum((y - np.mean(y)) ** 2)\n",
    "r2 = 1 - (res / tot)\n",
    "\n",
    "prediction = model.predict([[160, 32, 18]])\n",
    "\n",
    "print(\"Coefficients:\", coefficients)\n",
    "print(\"Intercept:\", intercept)\n",
    "print(\"R²:\", r2)\n",
    "print(\"Predicted sales:\", prediction[0])"
   ]
  }
 ],
 "metadata": {
  "colab": {
   "authorship_tag": "ABX9TyMyuA2/u4jeJEc+H8f+DTml",
   "provenance": []
  },
  "kernelspec": {
   "display_name": ".venv",
   "language": "python",
   "name": "python3"
  },
  "language_info": {
   "codemirror_mode": {
    "name": "ipython",
    "version": 3
   },
   "file_extension": ".py",
   "mimetype": "text/x-python",
   "name": "python",
   "nbconvert_exporter": "python",
   "pygments_lexer": "ipython3",
   "version": "3.13.7"
  }
 },
 "nbformat": 4,
 "nbformat_minor": 0
}
